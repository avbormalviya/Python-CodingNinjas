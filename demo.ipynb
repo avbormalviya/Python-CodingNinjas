{
 "cells": [
  {
   "cell_type": "code",
   "execution_count": 29,
   "metadata": {},
   "outputs": [
    {
     "name": "stdout",
     "output_type": "stream",
     "text": [
      "[1, 2, 4, 6, 9]\n"
     ]
    }
   ],
   "source": [
    "list=[1,9,4,6,2]\n",
    "list.sort()\n",
    "print(list)"
   ]
  },
  {
   "cell_type": "code",
   "execution_count": 32,
   "metadata": {},
   "outputs": [
    {
     "name": "stdout",
     "output_type": "stream",
     "text": [
      "[1, 3, 2, 6]\n"
     ]
    }
   ],
   "source": [
    "a=[1,3]\n",
    "b=[2,6]\n",
    "print(a+b)"
   ]
  },
  {
   "cell_type": "code",
   "execution_count": null,
   "metadata": {},
   "outputs": [
    {
     "name": "stdout",
     "output_type": "stream",
     "text": [
      "[1, 3, 1, 3, 1, 3]\n"
     ]
    }
   ],
   "source": [
    "a=[1,3]\n",
    "print(a*3)"
   ]
  },
  {
   "cell_type": "code",
   "execution_count": 28,
   "metadata": {},
   "outputs": [
    {
     "name": "stdout",
     "output_type": "stream",
     "text": [
      "[2, 6, 4, 9, 1]\n"
     ]
    }
   ],
   "source": [
    "list=[1,9,4,6,2]\n",
    "list.reverse()\n",
    "print(list)"
   ]
  },
  {
   "cell_type": "code",
   "execution_count": 26,
   "metadata": {},
   "outputs": [
    {
     "name": "stdout",
     "output_type": "stream",
     "text": [
      "[]\n"
     ]
    }
   ],
   "source": [
    "list=[1,3,5,3,1]\n",
    "list.clear()\n",
    "print(list)"
   ]
  },
  {
   "cell_type": "code",
   "execution_count": 24,
   "metadata": {},
   "outputs": [
    {
     "name": "stdout",
     "output_type": "stream",
     "text": [
      "[1, 5, 3, 1]\n"
     ]
    }
   ],
   "source": [
    "list=[1,3,5,3,1]\n",
    "list.remove(3)\n",
    "print(list)"
   ]
  },
  {
   "cell_type": "code",
   "execution_count": 22,
   "metadata": {},
   "outputs": [
    {
     "name": "stdout",
     "output_type": "stream",
     "text": [
      "[1, 3, 5, 3, 1, 2, 8, 9]\n"
     ]
    }
   ],
   "source": [
    "list=[1,3,5,3,1]\n",
    "list.extend([2,8,9])\n",
    "print(list)"
   ]
  },
  {
   "cell_type": "code",
   "execution_count": null,
   "metadata": {},
   "outputs": [
    {
     "name": "stdout",
     "output_type": "stream",
     "text": [
      "[1, 2, 3, 5, 3, 1]\n"
     ]
    }
   ],
   "source": [
    "list=[1,3,5,3,1]\n",
    "list.insert(1,2)\n",
    "print(list)"
   ]
  },
  {
   "cell_type": "code",
   "execution_count": 13,
   "metadata": {},
   "outputs": [
    {
     "name": "stdout",
     "output_type": "stream",
     "text": [
      "18\n"
     ]
    }
   ],
   "source": [
    "list=[1,4,6,7]\n",
    "sum=0\n",
    "for i in list:\n",
    "    sum+=i\n",
    "print(sum)"
   ]
  },
  {
   "cell_type": "code",
   "execution_count": 9,
   "metadata": {},
   "outputs": [
    {
     "name": "stdout",
     "output_type": "stream",
     "text": [
      "[2, 5, 'deepika']\n"
     ]
    }
   ],
   "source": [
    "list=[2,5,\"deepika\",9.3,\"borana\"]\n",
    "list.pop()\n",
    "list.pop(3)\n",
    "print(list)"
   ]
  },
  {
   "cell_type": "code",
   "execution_count": 6,
   "metadata": {},
   "outputs": [
    {
     "name": "stdout",
     "output_type": "stream",
     "text": [
      "[2, 5, 'deepika', 9.3, 'borana']\n",
      "2\n",
      "deepika\n"
     ]
    }
   ],
   "source": [
    "list=[2,5,\"deepika\",9.3,\"borana\"]\n",
    "print(list)\n",
    "print(list[0])\n",
    "print(list[2])"
   ]
  },
  {
   "cell_type": "code",
   "execution_count": 5,
   "metadata": {},
   "outputs": [
    {
     "name": "stdout",
     "output_type": "stream",
     "text": [
      "[2, 4, 7, 8, 5, 9]\n",
      "first element:2\n",
      "last element:9\n"
     ]
    }
   ],
   "source": [
    "list=[2,4,7,8,5]\n",
    "list.append(9)\n",
    "print(list)\n",
    "print(f\"first element:{list[0]}\")\n",
    "print(f\"last element:{list[-1]}\")"
   ]
  },
  {
   "cell_type": "code",
   "execution_count": 2,
   "metadata": {},
   "outputs": [
    {
     "name": "stdout",
     "output_type": "stream",
     "text": [
      "array('i', [2, 4, 6, 8, 4]) <class 'array.array'>\n",
      "[2, 4, 6, 8, 4] <class 'list'>\n"
     ]
    }
   ],
   "source": [
    "import array\n",
    "a=array.array('i',[2,4,6,8,4])\n",
    "print(a,type(a))\n",
    "b=list(a)\n",
    "print(b,type(b))"
   ]
  },
  {
   "cell_type": "code",
   "execution_count": null,
   "metadata": {},
   "outputs": [],
   "source": [
    "def fit(x, y):\n",
    "    summary = defaultdict(dict)\n",
    "\n",
    "    for curr_class in set(y):\n",
    "        curr_class_df = x[y == curr_class]\n",
    "\n",
    "        # Iterate through each document in the class\n",
    "        for i in range(len(curr_class_df)):\n",
    "            for j, word in enumerate(vocab_words):\n",
    "                word_count = curr_class_df[i, j]  # Get the count of the word in the current document\n",
    "                summary[curr_class][word] = (word_count + 1) / (curr_class_df[i].sum() + len(vocab_words))  # Apply smoothing\n",
    "\n",
    "        summary[curr_class]['total'] = len(curr_class_df)\n",
    "\n",
    "    summary['total'] = len(x)\n",
    "\n",
    "    return summary\n",
    "\n",
    "def probability(summary, curr_class, document, alpha=1):\n",
    "    # Initialize the probability with the class prior\n",
    "    prob = np.log(summary[curr_class]['total']) - np.log(summary['total'])\n",
    "\n",
    "    # Number of features (words in the vocabulary)\n",
    "    num_features = len(vocab_words)\n",
    "\n",
    "    # Iterate over each word in the document\n",
    "    for i in range(num_features):\n",
    "        word_count_in_doc = document[i]  # Count of the word in the current document\n",
    "\n",
    "        # Probability of the word in the current class\n",
    "        word_prob = summary[curr_class].get(vocab_words[i], 0)\n",
    "\n",
    "        # Apply Laplace smoothing to the word probability in the current class\n",
    "        prob += np.log(word_prob + alpha) - np.log(summary[curr_class]['total'] + alpha * len(vocab_words))\n",
    "\n",
    "    return prob\n",
    "\n",
    "\n",
    "def predict_single(summary, document):\n",
    "    best_class = None\n",
    "    best_probability = -np.inf  # Initialize with a very low value for log probabilities\n",
    "\n",
    "    for curr_class in summary.keys():\n",
    "        if curr_class == 'total':\n",
    "            continue\n",
    "\n",
    "        prob = probability(summary, curr_class, document)\n",
    "\n",
    "        if prob > best_probability:\n",
    "            best_class = curr_class\n",
    "            best_probability = prob\n",
    "\n",
    "    return best_class\n",
    "\n",
    "def predict(summary, x):\n",
    "    y = []\n",
    "\n",
    "    for document in x:\n",
    "        y.append(predict_single(summary, document))\n",
    "\n",
    "    return y\n",
    "\n",
    "def score(y_true, y_pred):\n",
    "    return np.sum(y_true == y_pred) / len(y_true)\n",
    "\n",
    "summary = fit(x_train_dataset, y_train)\n",
    "y_pred = predict(summary, x_test_dataset)\n",
    "\n",
    "print(f\"Accuracy: {score(y_test, y_pred)}\")\n",
    "\n",
    "# Accuracy: 0.05675"
   ]
  },
  {
   "cell_type": "code",
   "execution_count": 9,
   "metadata": {},
   "outputs": [
    {
     "ename": "NameError",
     "evalue": "name 'arr' is not defined",
     "output_type": "error",
     "traceback": [
      "\u001b[1;31m---------------------------------------------------------------------------\u001b[0m",
      "\u001b[1;31mNameError\u001b[0m                                 Traceback (most recent call last)",
      "Cell \u001b[1;32mIn[9], line 2\u001b[0m\n\u001b[0;32m      1\u001b[0m \u001b[38;5;28;01mimport\u001b[39;00m \u001b[38;5;21;01marray\u001b[39;00m\n\u001b[1;32m----> 2\u001b[0m a\u001b[38;5;241m=\u001b[39m\u001b[43marr\u001b[49m\u001b[38;5;241m.\u001b[39marray(\u001b[38;5;124m'\u001b[39m\u001b[38;5;124mi\u001b[39m\u001b[38;5;124m'\u001b[39m,[\u001b[38;5;241m1\u001b[39m,\u001b[38;5;241m2\u001b[39m,\u001b[38;5;241m3\u001b[39m,\u001b[38;5;241m4\u001b[39m,\u001b[38;5;241m5\u001b[39m,\u001b[38;5;241m6\u001b[39m,\u001b[38;5;241m7\u001b[39m])\n\u001b[0;32m      3\u001b[0m print_len\u001b[38;5;241m=\u001b[39ma\n\u001b[0;32m      4\u001b[0m print_len(array)\n",
      "\u001b[1;31mNameError\u001b[0m: name 'arr' is not defined"
     ]
    }
   ],
   "source": [
    "import array\n",
    "a=arr.array('i',[1,2,3,4,5,6,7])\n",
    "print_len=a\n",
    "print_len(array)"
   ]
  }
 ],
 "metadata": {
  "kernelspec": {
   "display_name": "Python 3",
   "language": "python",
   "name": "python3"
  },
  "language_info": {
   "codemirror_mode": {
    "name": "ipython",
    "version": 3
   },
   "file_extension": ".py",
   "mimetype": "text/x-python",
   "name": "python",
   "nbconvert_exporter": "python",
   "pygments_lexer": "ipython3",
   "version": "3.12.0"
  }
 },
 "nbformat": 4,
 "nbformat_minor": 2
}
